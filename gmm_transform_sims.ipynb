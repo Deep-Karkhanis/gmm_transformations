{
  "cells": [
    {
      "cell_type": "code",
      "execution_count": 3,
      "metadata": {
        "id": "3l3L2QEHw9yJ"
      },
      "outputs": [],
      "source": [
        "import numpy as np\n",
        "from tqdm import tqdm\n",
        "import matplotlib.pyplot as plt\n",
        "from sympy.utilities.iterables import multiset_permutations\n",
        "import statistics as st\n",
        "import math"
      ]
    },
    {
      "cell_type": "markdown",
      "source": [
        "GMM Parameters"
      ],
      "metadata": {
        "id": "5G43e8W2UizR"
      }
    },
    {
      "cell_type": "code",
      "source": [
        "K = 1\n",
        "D = 10\n",
        "N_max = 9 # Maximum datapoints in a simulation\n",
        "max_iters = 10"
      ],
      "metadata": {
        "id": "sFOFeuaWFZ4j"
      },
      "execution_count": 11,
      "outputs": []
    },
    {
      "cell_type": "code",
      "execution_count": 12,
      "metadata": {
        "colab": {
          "base_uri": "https://localhost:8080/"
        },
        "id": "SEdtcoWGw9yc",
        "outputId": "45956a00-197c-424c-d004-75661380a2ed"
      },
      "outputs": [
        {
          "output_type": "stream",
          "name": "stderr",
          "text": [
            "100%|██████████| 10/10 [00:00<00:00, 1458.69it/s]\n",
            "100%|██████████| 10/10 [00:00<00:00, 971.67it/s]\n",
            "100%|██████████| 10/10 [00:00<00:00, 686.03it/s]\n",
            "100%|██████████| 10/10 [00:00<00:00, 249.39it/s]\n",
            "100%|██████████| 10/10 [00:00<00:00, 54.12it/s]\n",
            "100%|██████████| 10/10 [00:01<00:00,  7.31it/s]\n",
            "100%|██████████| 10/10 [00:07<00:00,  1.29it/s]\n",
            "100%|██████████| 10/10 [01:06<00:00,  6.60s/it]\n"
          ]
        }
      ],
      "source": [
        "ret = {}\n",
        "\n",
        "for nn in range(1,N_max):\n",
        "  point_cnt = [nn for _ in range(K)] # No of points in each cluster\n",
        "  N = sum(point_cnt)\n",
        "  ret[N] = {}\n",
        "  for iter in tqdm(range(max_iters)):\n",
        "      ret[N][iter] = {}\n",
        "      \n",
        "      # GMM means, data and T is sampled uniformly randomly\n",
        "      mu = np.random.rand(K,D)\n",
        "      X = np.zeros((N, D))\n",
        "      T  = np.random.rand(D,D)\n",
        "      \n",
        "      st_pt = 0\n",
        "      for i, pt_cnt in enumerate(point_cnt):\n",
        "          en_pt = st_pt+pt_cnt\n",
        "          X[st_pt:en_pt] = np.random.normal(mu[i], size=(pt_cnt, D))\n",
        "          st_pt = en_pt\n",
        "\n",
        "      y = np.matmul(X, T)\n",
        "      \n",
        "      ret[N][iter][\"GT\"] = {}\n",
        "      ret[N][iter][\"GT\"][\"mu\"] = mu\n",
        "      ret[N][iter][\"GT\"][\"X\"] = X\n",
        "      ret[N][iter][\"GT\"][\"y\"] = y\n",
        "      ret[N][iter][\"GT\"][\"T\"] = T\n",
        "\n",
        "      mu_hat = np.zeros_like(mu)\n",
        "      eta_hat = np.zeros_like(mu)\n",
        "      st_pt = 0\n",
        "      for i, pt_cnt in enumerate(point_cnt):\n",
        "          en_pt = st_pt+pt_cnt\n",
        "          mu_hat[i] = np.mean(X[st_pt:en_pt],axis=0)\n",
        "          eta_hat[i] = np.mean(y[st_pt:en_pt],axis=0)\n",
        "          st_pt = en_pt\n",
        "\n",
        "      ans_GMM = np.matmul(np.linalg.pinv(mu_hat), eta_hat)\n",
        "      gtperm = [i for i in range(len(y))]\n",
        "\n",
        "      ret[N][iter][\"EST\"] = {}\n",
        "      ret[N][iter][\"EST\"][\"mu_hat\"] = mu_hat\n",
        "      ret[N][iter][\"EST\"][\"eta_hat\"] = eta_hat\n",
        "      ret[N][iter][\"EST\"][\"ans_GMM\"] = ans_GMM\n",
        "\n",
        "      ret[N][iter][\"CANDIDATES\"] = []\n",
        "\n",
        "      for perm in list(multiset_permutations(range(len(y)))):\n",
        "          ans = np.matmul(np.linalg.pinv(X), np.array(y[perm]))\n",
        "          XT_Yperm = np.linalg.norm(np.matmul(X, ans) - y[perm])\n",
        "          perm_dist = np.count_nonzero(np.subtract(perm, gtperm))\n",
        "          del_T = round(np.linalg.norm(ans - T), 2)\n",
        "          del_T_GMM = round(np.linalg.norm(ans - ans_GMM), 2)\n",
        "\n",
        "          if XT_Yperm < 1e-9:\n",
        "              tmp = {}\n",
        "              tmp[\"del_T\"] = del_T\n",
        "              tmp[\"del_T_GMM\"] = del_T_GMM\n",
        "              tmp[\"XT_Yperm\"] = XT_Yperm\n",
        "              tmp[\"perm\"] = perm\n",
        "              tmp[\"perm_dist\"] = perm_dist\n",
        "              ret[N][iter][\"CANDIDATES\"].append(tmp)"
      ]
    },
    {
      "cell_type": "code",
      "execution_count": 13,
      "metadata": {
        "id": "LDdDv2CIw9ye"
      },
      "outputs": [],
      "source": [
        "from collections import defaultdict\n",
        "\n",
        "def get_plot(idx,N):\n",
        "    l = ret[N][idx][\"CANDIDATES\"]\n",
        "    dels =[(l[i]['del_T_GMM'], -1*l[i]['del_T']) for i in range(len(l))]\n",
        "    sorted_dels = sorted(dels)\n",
        "    x, y = list(zip(*sorted_dels))\n",
        "    y = [-1*ele for ele in y]\n",
        "    plt.plot(x, y, 'k-')\n",
        "    plt.show()\n",
        "\n",
        "# def get_plot(idx):\n",
        "    # l = ret[N][idx][\"CANDIDATES\"]\n",
        "\n",
        "    # [(val['del_T_GMM'],i) for i,val in enumerate(ret[N][idx][\"CANDIDATES\"])]\n",
        "def accum_prob_plot(N, N_max):\n",
        "    occ_cnts = defaultdict(int)\n",
        "    sum_del_GMM = defaultdict(int)\n",
        "    sum_del_T = defaultdict(int)\n",
        "    cnt_GMM = defaultdict(int)\n",
        "\n",
        "    for idx in range(max_iters):\n",
        "        l = ret[N][idx][\"CANDIDATES\"]\n",
        "        dels =[(l[i]['del_T_GMM'], -1*l[i]['del_T']) for i in range(len(l))]\n",
        "        sorted_dels = sorted(dels)\n",
        "        del_GMM, del_T = list(zip(*sorted_dels))\n",
        "        del_T = [-1*ele for ele in del_T]\n",
        "\n",
        "        min_del_T = min(del_T)\n",
        "        del_T_idx = del_T.index(min_del_T)\n",
        "        occ_cnts[del_T_idx] += 1\n",
        "            \n",
        "        for i_gmm in range(len(del_GMM)):\n",
        "            sum_del_GMM[i_gmm] += del_GMM[i_gmm]\n",
        "            sum_del_T[i_gmm] += del_T[i_gmm]\n",
        "            cnt_GMM[i_gmm] += 1\n",
        "\n",
        "    l = [(k,sum_del_GMM[k]/cnt_GMM[k], sum_del_T[k]/cnt_GMM[k]) for k,_ in sum_del_GMM.items()]\n",
        "    l.sort()\n",
        "    idx_del_GMM, avg_del_GMM, avg_del_T = list(zip(*l))\n",
        "    # plt.plot(idx_del_GMM, avg_del_T)#, \"del T\")\n",
        "    \n",
        "    # for i, j in zip(idx_del_GMM[:3], avg_del_T[:3]):\n",
        "    #    plt.text(i, j, '({}, {})'.format(i, j))\n",
        "    # plt.show()\n",
        "\n",
        "    l = [(k,v/max_iters) for k,v in occ_cnts.items()]\n",
        "    l.sort()\n",
        "    x,probs = list(zip(*l))    \n",
        "    # plt.plot(x, probs)\n",
        "\n",
        "    # for i, j in zip(x[:3], probs[:3]):\n",
        "    #    plt.text(i, j, '({}, {})'.format(i, j))\n",
        "    # plt.show()\n",
        "\n",
        "    second_closest_avg = []\n",
        "    N_list = list(range(1,N_max))\n",
        "    \n",
        "    nrows = 3\n",
        "    ncols = math.ceil(N_max/3.0)\n",
        "    fig, axs = plt.subplots(nrows, ncols)\n",
        "    fig.set_figheight(10)\n",
        "    fig.set_figwidth(15)\n",
        "    # for ax in axs.flat:\n",
        "    #     ax.set(xlabel='Normalized_dist from T')\n",
        "\n",
        "    for nn in N_list:\n",
        "      second_closest = []\n",
        "      # for idx in range(max_iters):\n",
        "      for idx in range(max_iters):\n",
        "        l = ret[nn][idx][\"CANDIDATES\"]\n",
        "        T_2 = round(np.linalg.norm(ret[nn][idx][\"GT\"][\"T\"]), 2)\n",
        "        # dels =[l[i]['del_T']/T_2 for i in range(len(l)) if l[i]['del_T'] >= 1e-9]\n",
        "        dels =[l[i]['del_T'] for i in range(len(l)) if l[i]['del_T'] >= 1e-9]\n",
        "        # dists_dels =[l[i]['del_T']/T_2 for i in range(len(l)) if l[i]['del_T']]\n",
        "        dists_dels =[l[i]['del_T'] for i in range(len(l)) if l[i]['del_T']]\n",
        "        \n",
        "        plt.hist(dists_dels)\n",
        "\n",
        "\n",
        "        axs[int(nn/ncols),nn%ncols].hist(dists_dels)\n",
        "        axs[int(nn/ncols),nn%ncols].set_title('N= '+str(nn))\n",
        "        if len(dels) == 0:\n",
        "          second_closest.append(0)\n",
        "        else:\n",
        "          second_closest.append(min(dels))\n",
        "        # print(nn,dels[:min(len(dels),10)])\n",
        "      second_closest_avg.append(st.mean(second_closest))\n",
        "    \n",
        "    # for ax in axs.flat:\n",
        "    #     ax.label_outer()\n",
        "\n",
        "    plt.show()\n",
        "\n",
        "    plt.plot(N_list, second_closest_avg) \n",
        "    plt.xlabel(\"N\")\n",
        "    plt.ylabel(\"Second closest delta_T\")\n",
        "    for i, j in zip(N_list, second_closest_avg):\n",
        "       plt.text(i, j, '({}, {})'.format(i, round(j,4)))\n",
        "    plt.show()\n",
        "    return second_closest_avg\n",
        "\n",
        "        # sorted_dels = sorted(dels)\n",
        "        # del_GMM, del_T = list(zip(*sorted_dels))\n",
        "        # del_T = [-1*ele for ele in del_T]\n",
        "\n",
        "        # min_del_T = min(del_T)\n",
        "        # del_T_idx = del_T.index(min_del_T)\n",
        "        # occ_cnts[del_T_idx] += 1\n",
        "            \n",
        "        # for i_gmm in range(len(del_GMM)):\n",
        "        #     sum_del_GMM[i_gmm] += del_GMM[i_gmm]\n",
        "        #     sum_del_T[i_gmm] += del_T[i_gmm]\n",
        "        #     cnt_GMM[i_gmm] += 1\n",
        "\n",
        "    \n",
        "    "
      ]
    },
    {
      "cell_type": "code",
      "execution_count": 14,
      "metadata": {
        "colab": {
          "base_uri": "https://localhost:8080/",
          "height": 869
        },
        "id": "XGsERVyEw9yf",
        "outputId": "41055361-1c24-4c1d-c9b7-87b79e920ff2"
      },
      "outputs": [
        {
          "output_type": "display_data",
          "data": {
            "text/plain": [
              "<Figure size 1080x720 with 9 Axes>"
            ],
            "image/png": "[encoded data removed]"
          },
          "metadata": {
            "needs_background": "light"
          }
        },
        {
          "output_type": "display_data",
          "data": {
            "text/plain": [
              "<Figure size 432x288 with 1 Axes>"
            ],
            "image/png": "[encoded data removed]"
          },
          "metadata": {
            "needs_background": "light"
          }
        }
      ],
      "source": [
        "N = 7\n",
        "# get_plot(8,N)\n",
        "second_closest_avg = accum_prob_plot(N, N_max)"
      ]
    },
    {
      "cell_type": "code",
      "source": [],
      "metadata": {
        "id": "P_bdFr_VWb2y"
      },
      "execution_count": null,
      "outputs": []
    },
    {
      "cell_type": "markdown",
      "source": [
        "Rough"
      ],
      "metadata": {
        "id": "MImUECtsWcb9"
      }
    },
    {
      "cell_type": "code",
      "source": [
        "import numpy as np\n",
        "from itertools import permutations\n",
        "num_means = 5\n",
        "dim = 10\n",
        "M = np.random.randn(dim, num_means)\n",
        "A = np.random.randn(dim, dim)\n",
        "M2 = A @ M\n",
        "I = np.eye(num_means)\n",
        "for inds in permutations(np.arange(num_means)):\n",
        "    P = I[np.array(inds)]\n",
        "    dist = np.linalg.norm(M2 @ (P-I) @ np.linalg.pinv(M))\n",
        "    if dist / np.linalg.norm(A) < 1:\n",
        "        print(dist, dist / np.linalg.norm(A), inds)"
      ],
      "metadata": {
        "colab": {
          "base_uri": "https://localhost:8080/"
        },
        "id": "S-NKc41nC0ML",
        "outputId": "125ec67d-0b1d-4aa5-efa6-75f211a930c9"
      },
      "execution_count": null,
      "outputs": [
        {
          "output_type": "stream",
          "name": "stdout",
          "text": [
            "0.0 0.0 (0, 1, 2, 3, 4)\n",
            "7.002539602003183 0.7631027619550541 (0, 1, 2, 4, 3)\n",
            "6.2353999058430905 0.6795036030473826 (0, 1, 3, 2, 4)\n",
            "6.582024397506803 0.7172770569631846 (0, 3, 2, 1, 4)\n",
            "8.526493567456829 0.9291758648900749 (0, 3, 2, 4, 1)\n",
            "8.474549172147878 0.923515216927869 (0, 4, 2, 1, 3)\n",
            "7.222220585113506 0.7870425287380272 (0, 4, 2, 3, 1)\n",
            "8.898739344729941 0.9697414020963134 (3, 1, 2, 0, 4)\n",
            "8.472403684678547 0.9232814121218071 (3, 1, 2, 4, 0)\n"
          ]
        }
      ]
    },
    {
      "cell_type": "code",
      "execution_count": null,
      "metadata": {
        "colab": {
          "base_uri": "https://localhost:8080/",
          "height": 130
        },
        "id": "vjos9WaNw9yg",
        "outputId": "84f8e705-661c-4701-8f12-637b7d206f6e"
      },
      "outputs": [
        {
          "output_type": "error",
          "ename": "IndentationError",
          "evalue": "ignored",
          "traceback": [
            "\u001b[0;36m  File \u001b[0;32m\"<ipython-input-120-85f2a88933b3>\"\u001b[0;36m, line \u001b[0;32m15\u001b[0m\n\u001b[0;31m    print(\"yperm: \", np.array(y[perm]))\u001b[0m\n\u001b[0m    ^\u001b[0m\n\u001b[0;31mIndentationError\u001b[0m\u001b[0;31m:\u001b[0m unexpected indent\n"
          ]
        }
      ],
      "source": [
        "gtperm = [i for i in range(len(y))]\n",
        "for perm in list(multiset_permutations(range(len(y)))):\n",
        "    ans = np.matmul(np.linalg.pinv(X), np.array(y[perm]))\n",
        "    XT_Yperm = np.linalg.norm(np.matmul(X, ans) - y[perm])\n",
        "    perm_dist = np.count_nonzero(np.subtract(perm, gtperm))\n",
        "    if XT_Yperm < 1e-9 and perm_dist != 0:\n",
        "        print(\"XT_Yperm\", XT_Yperm)\n",
        "        # print(\"Del T:\" , round(np.linalg.norm(ans - T), 2))\n",
        "        print(\"Perm distance:\", perm_dist)\n",
        "        print(\"-----\")\n",
        "        print(\"perm: \", perm)\n",
        "        print(\"-----\")\n",
        "        print(\"ans: \", np.array(ans))\n",
        "        print(\"-----\")\n",
        "          print(\"yperm: \", np.array(y[perm]))\n",
        "        print(\"===================\\n\")"
      ]
    },
    {
      "cell_type": "code",
      "source": [],
      "metadata": {
        "id": "OingCJrlDGBU"
      },
      "execution_count": null,
      "outputs": []
    }
  ],
  "metadata": {
    "kernelspec": {
      "display_name": "Python 3.8.8 ('base')",
      "language": "python",
      "name": "python3"
    },
    "language_info": {
      "codemirror_mode": {
        "name": "ipython",
        "version": 3
      },
      "file_extension": ".py",
      "mimetype": "text/x-python",
      "name": "python",
      "nbconvert_exporter": "python",
      "pygments_lexer": "ipython3",
      "version": "3.8.8"
    },
    "orig_nbformat": 4,
    "vscode": {
      "interpreter": {
        "hash": "b171fa6a9dacaa27b659a6e08079c71584e4691517c41e5a8d9560eb17cc529b"
      }
    },
    "colab": {
      "provenance": []
    }
  },
  "nbformat": 4,
  "nbformat_minor": 0
}